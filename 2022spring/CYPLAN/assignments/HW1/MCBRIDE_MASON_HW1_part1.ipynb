{
 "cells": [
  {
   "cell_type": "code",
   "execution_count": 1,
   "id": "bd70fa50",
   "metadata": {},
   "outputs": [],
   "source": [
    "import numpy as np\n",
    "%matplotlib inline\n",
    "import matplotlib.pyplot as plt\n",
    "import networkx as nx\n",
    "import pandas as pd"
   ]
  },
  {
   "cell_type": "markdown",
   "id": "9c4d39a2",
   "metadata": {},
   "source": [
    "(1) create graph from dataset based on list of edges and nodes"
   ]
  },
  {
   "cell_type": "code",
   "execution_count": 2,
   "id": "12a47d70",
   "metadata": {},
   "outputs": [],
   "source": [
    "fl = pd.read_csv(\"internet.edgelist.txt\", delimiter='\\t')"
   ]
  },
  {
   "cell_type": "code",
   "execution_count": 3,
   "id": "86b54d13",
   "metadata": {},
   "outputs": [
    {
     "data": {
      "text/html": [
       "<div>\n",
       "<style scoped>\n",
       "    .dataframe tbody tr th:only-of-type {\n",
       "        vertical-align: middle;\n",
       "    }\n",
       "\n",
       "    .dataframe tbody tr th {\n",
       "        vertical-align: top;\n",
       "    }\n",
       "\n",
       "    .dataframe thead th {\n",
       "        text-align: right;\n",
       "    }\n",
       "</style>\n",
       "<table border=\"1\" class=\"dataframe\">\n",
       "  <thead>\n",
       "    <tr style=\"text-align: right;\">\n",
       "      <th></th>\n",
       "      <th>0</th>\n",
       "      <th>1</th>\n",
       "    </tr>\n",
       "  </thead>\n",
       "  <tbody>\n",
       "    <tr>\n",
       "      <th>0</th>\n",
       "      <td>0</td>\n",
       "      <td>111</td>\n",
       "    </tr>\n",
       "    <tr>\n",
       "      <th>1</th>\n",
       "      <td>0</td>\n",
       "      <td>219</td>\n",
       "    </tr>\n",
       "    <tr>\n",
       "      <th>2</th>\n",
       "      <td>0</td>\n",
       "      <td>337</td>\n",
       "    </tr>\n",
       "    <tr>\n",
       "      <th>3</th>\n",
       "      <td>0</td>\n",
       "      <td>740</td>\n",
       "    </tr>\n",
       "    <tr>\n",
       "      <th>4</th>\n",
       "      <td>0</td>\n",
       "      <td>1879</td>\n",
       "    </tr>\n",
       "    <tr>\n",
       "      <th>...</th>\n",
       "      <td>...</td>\n",
       "      <td>...</td>\n",
       "    </tr>\n",
       "    <tr>\n",
       "      <th>609060</th>\n",
       "      <td>192001</td>\n",
       "      <td>192002</td>\n",
       "    </tr>\n",
       "    <tr>\n",
       "      <th>609061</th>\n",
       "      <td>192115</td>\n",
       "      <td>192116</td>\n",
       "    </tr>\n",
       "    <tr>\n",
       "      <th>609062</th>\n",
       "      <td>192115</td>\n",
       "      <td>192117</td>\n",
       "    </tr>\n",
       "    <tr>\n",
       "      <th>609063</th>\n",
       "      <td>192115</td>\n",
       "      <td>192119</td>\n",
       "    </tr>\n",
       "    <tr>\n",
       "      <th>609064</th>\n",
       "      <td>192190</td>\n",
       "      <td>192191</td>\n",
       "    </tr>\n",
       "  </tbody>\n",
       "</table>\n",
       "<p>609065 rows × 2 columns</p>\n",
       "</div>"
      ],
      "text/plain": [
       "             0       1\n",
       "0            0     111\n",
       "1            0     219\n",
       "2            0     337\n",
       "3            0     740\n",
       "4            0    1879\n",
       "...        ...     ...\n",
       "609060  192001  192002\n",
       "609061  192115  192116\n",
       "609062  192115  192117\n",
       "609063  192115  192119\n",
       "609064  192190  192191\n",
       "\n",
       "[609065 rows x 2 columns]"
      ]
     },
     "execution_count": 3,
     "metadata": {},
     "output_type": "execute_result"
    }
   ],
   "source": [
    "fl"
   ]
  },
  {
   "cell_type": "markdown",
   "id": "f4ad59a5",
   "metadata": {},
   "source": [
    "define graph and read in edges"
   ]
  },
  {
   "cell_type": "code",
   "execution_count": 4,
   "id": "d155bc44",
   "metadata": {},
   "outputs": [
    {
     "data": {
      "text/plain": [
       "Index(['0', '1'], dtype='object')"
      ]
     },
     "execution_count": 4,
     "metadata": {},
     "output_type": "execute_result"
    }
   ],
   "source": [
    "fl.columns"
   ]
  },
  {
   "cell_type": "code",
   "execution_count": 5,
   "id": "15a9a47e",
   "metadata": {},
   "outputs": [],
   "source": [
    "g = nx.Graph()\n",
    "for index, row in fl.iterrows():\n",
    "    g.add_edge(row['0'], row['1'])\n",
    "largest_cc = max(nx.connected_components(g), key=len)\n",
    "G = g.subgraph(largest_cc)"
   ]
  },
  {
   "cell_type": "code",
   "execution_count": 7,
   "id": "dde4800f",
   "metadata": {},
   "outputs": [
    {
     "data": {
      "text/plain": [
       "True"
      ]
     },
     "execution_count": 7,
     "metadata": {},
     "output_type": "execute_result"
    }
   ],
   "source": [
    "G.number_of_nodes() < g.number_of_nodes()"
   ]
  },
  {
   "cell_type": "markdown",
   "id": "738cb1ab",
   "metadata": {},
   "source": [
    "plot histogram of graph g"
   ]
  },
  {
   "cell_type": "code",
   "execution_count": 8,
   "id": "cb51a600",
   "metadata": {},
   "outputs": [
    {
     "data": {
      "text/plain": [
       "range(1, 1073)"
      ]
     },
     "execution_count": 8,
     "metadata": {},
     "output_type": "execute_result"
    }
   ],
   "source": [
    "node_degrees = [G.degree(node) for node in G.nodes()]\n",
    "Bins = range(1,max(node_degrees)+2)\n",
    "Bins"
   ]
  },
  {
   "cell_type": "code",
   "execution_count": 9,
   "id": "984339cc",
   "metadata": {},
   "outputs": [],
   "source": [
    "counts, k = np.histogram(node_degrees, bins=Bins,density=True)"
   ]
  },
  {
   "cell_type": "code",
   "execution_count": 10,
   "id": "7e54037b",
   "metadata": {},
   "outputs": [
    {
     "data": {
      "text/plain": [
       "0.9999999999999997"
      ]
     },
     "execution_count": 10,
     "metadata": {},
     "output_type": "execute_result"
    }
   ],
   "source": [
    "np.sum(counts * np.diff(k))"
   ]
  },
  {
   "cell_type": "code",
   "execution_count": 11,
   "id": "6ac30936",
   "metadata": {},
   "outputs": [
    {
     "data": {
      "image/png": "[encoded data removed]",
      "text/plain": [
       "<Figure size 1700x800 with 1 Axes>"
      ]
     },
     "metadata": {},
     "output_type": "display_data"
    }
   ],
   "source": [
    "plt.figure(figsize=(17,8))\n",
    "plt.bar(k[:-1],counts,width=10, color='b')\n",
    "plt.title(\"Degree Histogram of Directed Graph\")\n",
    "plt.ylabel(\"Count\")\n",
    "plt.xlabel(\"Degree\")\n",
    "plt.show()"
   ]
  },
  {
   "cell_type": "markdown",
   "id": "349cd909",
   "metadata": {},
   "source": [
    "I think it's important to note the degree data in *counts* is very sparse towards the larger degrees-- but there are values in the larger degrees, but very few. Even tho it looks like matplotlib is not plotting any points past a degree of ~100, the max degree of the network is 1073, so there should exist a point plotted at degree 1073 on the histogram and should be considering when considering the degree distribution of the network. "
   ]
  },
  {
   "cell_type": "code",
   "execution_count": 12,
   "id": "c1294b91",
   "metadata": {},
   "outputs": [
    {
     "data": {
      "text/plain": [
       "0.15817326006876706"
      ]
     },
     "execution_count": 12,
     "metadata": {},
     "output_type": "execute_result"
    }
   ],
   "source": [
    "nx.average_clustering(G)"
   ]
  },
  {
   "cell_type": "markdown",
   "id": "d2fee366",
   "metadata": {},
   "source": [
    "Verifying the computation of average clusting with other nx computations"
   ]
  },
  {
   "cell_type": "code",
   "execution_count": null,
   "id": "20b47df4",
   "metadata": {},
   "outputs": [],
   "source": [
    "sum(nx.clustering(G).values()) / G.number_of_nodes()"
   ]
  },
  {
   "cell_type": "code",
   "execution_count": null,
   "id": "48146b07",
   "metadata": {},
   "outputs": [],
   "source": [
    "cluster_dict = nx.clustering(G)"
   ]
  },
  {
   "cell_type": "markdown",
   "id": "6c7f93e8",
   "metadata": {},
   "source": [
    "Largest clustering coefficient of Graph G <->"
   ]
  },
  {
   "cell_type": "code",
   "execution_count": null,
   "id": "011a803f",
   "metadata": {},
   "outputs": [],
   "source": [
    "max_clustering_nodes = [n for n, c_n in cluster_dict.items() if c_n == 1.0]\n",
    "len(max_clustering_nodes)"
   ]
  },
  {
   "cell_type": "markdown",
   "id": "c9bf8abc",
   "metadata": {},
   "source": [
    "FOR QUESTIONS 7 & 8, I attached code bellow using a fictional list of shortest paths between nodes of type List[List[nx.Node]] called shortest_paths"
   ]
  },
  {
   "cell_type": "code",
   "execution_count": null,
   "id": "72440a61",
   "metadata": {},
   "outputs": [],
   "source": [
    "longest_shortest_path_value = max(shortest_paths, key=len) # Q7\n",
    "longest_shortest_path_value = np.argmax(short_paths, key=len) # Q8"
   ]
  }
 ],
 "metadata": {
  "kernelspec": {
   "display_name": "Python 3",
   "language": "python",
   "name": "python3"
  },
  "language_info": {
   "codemirror_mode": {
    "name": "ipython",
    "version": 3
   },
   "file_extension": ".py",
   "mimetype": "text/x-python",
   "name": "python",
   "nbconvert_exporter": "python",
   "pygments_lexer": "ipython3",
   "version": "3.9.6"
  }
 },
 "nbformat": 4,
 "nbformat_minor": 5
}
