{
 "cells": [
  {
   "cell_type": "markdown",
   "metadata": {},
   "source": [
    "# Clustering Census Data\n",
    "**NOTE**: parts of this notebook have been\n",
    "borrowed from [GDS'17 - Lab\n",
    "6](http://darribas.org/gds17/content/labs/lab_06.html)\n",
    "--> and its Texbook Source is: [Geographic Data Science with Python](https://geographicdata.science/book/notebooks/10_clustering_and_regionalization.html)"
   ]
  },
  {
   "cell_type": "code",
   "execution_count": 12,
   "metadata": {},
   "outputs": [
    {
     "name": "stdout",
     "output_type": "stream",
     "text": [
      "Requirement already satisfied: esda in /usr/local/lib/python3.9/site-packages (2.4.1)\n",
      "Requirement already satisfied: scipy>=0.11 in /usr/local/lib/python3.9/site-packages (from esda) (1.6.3)\n",
      "Requirement already satisfied: pandas in /usr/local/lib/python3.9/site-packages (from esda) (1.2.4)\n",
      "Requirement already satisfied: scikit-learn in /usr/local/lib/python3.9/site-packages (from esda) (1.0.2)\n",
      "Requirement already satisfied: libpysal in /usr/local/lib/python3.9/site-packages (from esda) (4.6.0)\n",
      "Requirement already satisfied: numpy<1.23.0,>=1.16.5 in /usr/local/lib/python3.9/site-packages (from scipy>=0.11->esda) (1.20.2)\n",
      "Requirement already satisfied: packaging in /usr/local/lib/python3.9/site-packages (from libpysal->esda) (20.9)\n",
      "Requirement already satisfied: beautifulsoup4 in /usr/local/lib/python3.9/site-packages (from libpysal->esda) (4.9.3)\n",
      "Requirement already satisfied: jinja2 in /usr/local/lib/python3.9/site-packages (from libpysal->esda) (3.0.1)\n",
      "Requirement already satisfied: appdirs in /usr/local/lib/python3.9/site-packages (from libpysal->esda) (1.4.4)\n",
      "Requirement already satisfied: requests in /usr/local/lib/python3.9/site-packages (from libpysal->esda) (2.25.1)\n",
      "Requirement already satisfied: soupsieve>1.2 in /usr/local/lib/python3.9/site-packages (from beautifulsoup4->libpysal->esda) (2.2.1)\n",
      "Requirement already satisfied: MarkupSafe>=2.0 in /usr/local/lib/python3.9/site-packages (from jinja2->libpysal->esda) (2.0.1)\n",
      "Requirement already satisfied: pyparsing>=2.0.2 in /usr/local/lib/python3.9/site-packages (from packaging->libpysal->esda) (2.4.7)\n",
      "Requirement already satisfied: pytz>=2017.3 in /usr/local/lib/python3.9/site-packages (from pandas->esda) (2021.1)\n",
      "Requirement already satisfied: python-dateutil>=2.7.3 in /usr/local/lib/python3.9/site-packages (from pandas->esda) (2.8.1)\n",
      "Requirement already satisfied: six>=1.5 in /usr/local/lib/python3.9/site-packages (from python-dateutil>=2.7.3->pandas->esda) (1.15.0)\n",
      "Requirement already satisfied: idna<3,>=2.5 in /usr/local/lib/python3.9/site-packages (from requests->libpysal->esda) (2.10)\n",
      "Requirement already satisfied: certifi>=2017.4.17 in /usr/local/lib/python3.9/site-packages (from requests->libpysal->esda) (2020.12.5)\n",
      "Requirement already satisfied: chardet<5,>=3.0.2 in /usr/local/lib/python3.9/site-packages (from requests->libpysal->esda) (4.0.0)\n",
      "Requirement already satisfied: urllib3<1.27,>=1.21.1 in /usr/local/lib/python3.9/site-packages (from requests->libpysal->esda) (1.26.4)\n",
      "Requirement already satisfied: threadpoolctl>=2.0.0 in /usr/local/lib/python3.9/site-packages (from scikit-learn->esda) (3.1.0)\n",
      "Requirement already satisfied: joblib>=0.11 in /usr/local/lib/python3.9/site-packages (from scikit-learn->esda) (1.1.0)\n",
      "\u001b[33mWARNING: You are using pip version 21.1.3; however, version 22.0.3 is available.\n",
      "You should consider upgrading via the '/usr/local/opt/python@3.9/bin/python3.9 -m pip install --upgrade pip' command.\u001b[0m\n"
     ]
    }
   ],
   "source": [
    "!pip install esda"
   ]
  },
  {
   "cell_type": "code",
   "execution_count": 13,
   "metadata": {},
   "outputs": [
    {
     "name": "stdout",
     "output_type": "stream",
     "text": [
      "Requirement already satisfied: geopandas in /usr/local/lib/python3.9/site-packages (0.10.2)\n",
      "Requirement already satisfied: shapely>=1.6 in /usr/local/lib/python3.9/site-packages (from geopandas) (1.8.0)\n",
      "Requirement already satisfied: pyproj>=2.2.0 in /usr/local/lib/python3.9/site-packages (from geopandas) (3.3.0)\n",
      "Requirement already satisfied: pandas>=0.25.0 in /usr/local/lib/python3.9/site-packages (from geopandas) (1.2.4)\n",
      "Requirement already satisfied: fiona>=1.8 in /usr/local/lib/python3.9/site-packages (from geopandas) (1.8.21)\n",
      "Requirement already satisfied: setuptools in /usr/local/lib/python3.9/site-packages (from fiona>=1.8->geopandas) (57.0.0)\n",
      "Requirement already satisfied: certifi in /usr/local/lib/python3.9/site-packages (from fiona>=1.8->geopandas) (2020.12.5)\n",
      "Requirement already satisfied: click-plugins>=1.0 in /usr/local/lib/python3.9/site-packages (from fiona>=1.8->geopandas) (1.1.1)\n",
      "Requirement already satisfied: click>=4.0 in /usr/local/lib/python3.9/site-packages (from fiona>=1.8->geopandas) (8.0.1)\n",
      "Requirement already satisfied: munch in /usr/local/lib/python3.9/site-packages (from fiona>=1.8->geopandas) (2.5.0)\n",
      "Requirement already satisfied: attrs>=17 in /usr/local/lib/python3.9/site-packages (from fiona>=1.8->geopandas) (20.3.0)\n",
      "Requirement already satisfied: cligj>=0.5 in /usr/local/lib/python3.9/site-packages (from fiona>=1.8->geopandas) (0.7.2)\n",
      "Requirement already satisfied: six>=1.7 in /usr/local/lib/python3.9/site-packages (from fiona>=1.8->geopandas) (1.15.0)\n",
      "Requirement already satisfied: pytz>=2017.3 in /usr/local/lib/python3.9/site-packages (from pandas>=0.25.0->geopandas) (2021.1)\n",
      "Requirement already satisfied: python-dateutil>=2.7.3 in /usr/local/lib/python3.9/site-packages (from pandas>=0.25.0->geopandas) (2.8.1)\n",
      "Requirement already satisfied: numpy>=1.16.5 in /usr/local/lib/python3.9/site-packages (from pandas>=0.25.0->geopandas) (1.20.2)\n",
      "\u001b[33mWARNING: You are using pip version 21.1.3; however, version 22.0.3 is available.\n",
      "You should consider upgrading via the '/usr/local/opt/python@3.9/bin/python3.9 -m pip install --upgrade pip' command.\u001b[0m\n"
     ]
    }
   ],
   "source": [
    "! pip install geopandas"
   ]
  },
  {
   "cell_type": "code",
   "execution_count": 14,
   "metadata": {},
   "outputs": [
    {
     "name": "stdout",
     "output_type": "stream",
     "text": [
      "Requirement already satisfied: libpysal in /usr/local/lib/python3.9/site-packages (4.6.0)\n",
      "Requirement already satisfied: beautifulsoup4 in /usr/local/lib/python3.9/site-packages (from libpysal) (4.9.3)\n",
      "Requirement already satisfied: packaging in /usr/local/lib/python3.9/site-packages (from libpysal) (20.9)\n",
      "Requirement already satisfied: scipy>=0.11 in /usr/local/lib/python3.9/site-packages (from libpysal) (1.6.3)\n",
      "Requirement already satisfied: requests in /usr/local/lib/python3.9/site-packages (from libpysal) (2.25.1)\n",
      "Requirement already satisfied: pandas in /usr/local/lib/python3.9/site-packages (from libpysal) (1.2.4)\n",
      "Requirement already satisfied: numpy>=1.3 in /usr/local/lib/python3.9/site-packages (from libpysal) (1.20.2)\n",
      "Requirement already satisfied: appdirs in /usr/local/lib/python3.9/site-packages (from libpysal) (1.4.4)\n",
      "Requirement already satisfied: jinja2 in /usr/local/lib/python3.9/site-packages (from libpysal) (3.0.1)\n",
      "Requirement already satisfied: soupsieve>1.2 in /usr/local/lib/python3.9/site-packages (from beautifulsoup4->libpysal) (2.2.1)\n",
      "Requirement already satisfied: MarkupSafe>=2.0 in /usr/local/lib/python3.9/site-packages (from jinja2->libpysal) (2.0.1)\n",
      "Requirement already satisfied: pyparsing>=2.0.2 in /usr/local/lib/python3.9/site-packages (from packaging->libpysal) (2.4.7)\n",
      "Requirement already satisfied: python-dateutil>=2.7.3 in /usr/local/lib/python3.9/site-packages (from pandas->libpysal) (2.8.1)\n",
      "Requirement already satisfied: pytz>=2017.3 in /usr/local/lib/python3.9/site-packages (from pandas->libpysal) (2021.1)\n",
      "Requirement already satisfied: six>=1.5 in /usr/local/lib/python3.9/site-packages (from python-dateutil>=2.7.3->pandas->libpysal) (1.15.0)\n",
      "Requirement already satisfied: urllib3<1.27,>=1.21.1 in /usr/local/lib/python3.9/site-packages (from requests->libpysal) (1.26.4)\n",
      "Requirement already satisfied: idna<3,>=2.5 in /usr/local/lib/python3.9/site-packages (from requests->libpysal) (2.10)\n",
      "Requirement already satisfied: chardet<5,>=3.0.2 in /usr/local/lib/python3.9/site-packages (from requests->libpysal) (4.0.0)\n",
      "Requirement already satisfied: certifi>=2017.4.17 in /usr/local/lib/python3.9/site-packages (from requests->libpysal) (2020.12.5)\n",
      "\u001b[33mWARNING: You are using pip version 21.1.3; however, version 22.0.3 is available.\n",
      "You should consider upgrading via the '/usr/local/opt/python@3.9/bin/python3.9 -m pip install --upgrade pip' command.\u001b[0m\n",
      "Note: you may need to restart the kernel to use updated packages.\n"
     ]
    }
   ],
   "source": [
    "pip install libpysal"
   ]
  },
  {
   "cell_type": "code",
   "execution_count": 15,
   "metadata": {},
   "outputs": [],
   "source": [
    "from esda.moran import Moran\n",
    "import libpysal.weights.set_operations as Wsets\n",
    "from libpysal.weights import Queen, KNN\n",
    "import seaborn \n",
    "import pandas\n",
    "import geopandas \n",
    "import numpy\n",
    "from sklearn.cluster import KMeans, AgglomerativeClustering\n",
    "import matplotlib.pyplot as plt"
   ]
  },
  {
   "cell_type": "markdown",
   "metadata": {},
   "source": [
    "## Introduction\n",
    "\n",
    "\n",
    "Clustering is a method of data analysis that draws insights\n",
    "from large, complex multivariate processes.\n",
    "\n",
    "It works by finding similarities among the many dimensions in a multivariate process, condensing them down into a simpler representation.\n",
    "\n",
    "Thus, through clustering, we seek to reduce the complexity of the data\n",
    "\n",
    "Often, clustering involves sorting observations into groups. For these groups to be\n",
    "meaningful, members of a group should be more similar to one another than they are \n",
    "to members of a different group.\n",
    "\n",
    "Each group is referred to as a *cluster* while the process of assigning\n",
    "objects to groups is known as *clustering*. \n",
    "\n",
    "\n",
    "Since a good cluster is more\n",
    "similar internally than it is to any other cluster, these cluster-level profiles\n",
    "provide a convenient shorthand to describe the original complex multivariate process.\n",
    "\n",
    "Observations in one group may have consistently high \n",
    "scores on some traits but low scores on others. \n",
    "The analyst only needs to look at the profile of a cluster in order to get a\n",
    "good sense of what all the observations in that cluster are like, instead of\n",
    "having to consider all of the complexities of the original multivariate process at once. \n",
    "Throughout data science, and particularly in geographic data science, \n",
    "clustering is widely used to provide insights on the\n",
    "geographic structure of complex multivariate spatial data. \n",
    "\n",
    " \n",
    "\n",
    "We then consider geodemographic approaches to clustering&mdash;the application\n",
    "of multivariate clustering to spatially referenced demographic data.\n",
    "Two popular clustering algorithms are employed: k-means method.\n",
    "Mapping the spatial distribution of the resulting clusters \n",
    "reveals interesting insights on the socioeconomic structure of the San Diego\n",
    "metropolitan area. We also see that in many cases, clusters are spatially \n",
    "fragmented. That is, a cluster may actually consist of different areas that are not\n",
    "spatially connected. Indeed, some clusters will have their members strewn all over the map. \n",
    "This will illustrate why connectivity might be important when building insight\n",
    "about spatial data, since these clusters will not at all provide intelligible regions. \n",
    "So, we then will move on to regionalization, exploring different approaches that\n",
    "incorporate geographical constraints into the exploration of the social structure of San Diego.\n",
    "\n",
    "## Data\n",
    "\n",
    "The dataset we will use in this chapter comes from the American Community Survey\n",
    "(ACS). In particular, we examine data at the Census Tract level in San Diego,\n",
    "California in 2017. Let us begin by reading in the data as a GeoDataFrame and\n",
    "exploring the attribute names."
   ]
  },
  {
   "cell_type": "code",
   "execution_count": 16,
   "metadata": {},
   "outputs": [
    {
     "data": {
      "text/plain": [
       "Index(['GEOID', 'median_age', 'total_pop', 'total_pop_white', 'tt_work',\n",
       "       'hh_total', 'hh_female', 'total_bachelor', 'median_hh_income',\n",
       "       'income_gini', 'total_housing_units', 'total_rented', 'median_no_rooms',\n",
       "       'median_house_value', 'NAME', 'state', 'county', 'tract', 'area_sqkm',\n",
       "       'pct_rented', 'pct_hh_female', 'pct_bachelor', 'pct_white', 'sub_30',\n",
       "       'geometry'],\n",
       "      dtype='object')"
      ]
     },
     "execution_count": 16,
     "metadata": {},
     "output_type": "execute_result"
    }
   ],
   "source": [
    "# Read file\n",
    "db = geopandas.read_file('sandiego_tracts.gpkg')\n",
    "# Print column names\n",
    "db.columns"
   ]
  },
  {
   "cell_type": "code",
   "execution_count": 17,
   "metadata": {},
   "outputs": [
    {
     "data": {
      "text/html": [
       "<div>\n",
       "<style scoped>\n",
       "    .dataframe tbody tr th:only-of-type {\n",
       "        vertical-align: middle;\n",
       "    }\n",
       "\n",
       "    .dataframe tbody tr th {\n",
       "        vertical-align: top;\n",
       "    }\n",
       "\n",
       "    .dataframe thead th {\n",
       "        text-align: right;\n",
       "    }\n",
       "</style>\n",
       "<table border=\"1\" class=\"dataframe\">\n",
       "  <thead>\n",
       "    <tr style=\"text-align: right;\">\n",
       "      <th></th>\n",
       "      <th>GEOID</th>\n",
       "      <th>median_age</th>\n",
       "      <th>total_pop</th>\n",
       "      <th>total_pop_white</th>\n",
       "      <th>tt_work</th>\n",
       "      <th>hh_total</th>\n",
       "      <th>hh_female</th>\n",
       "      <th>total_bachelor</th>\n",
       "      <th>median_hh_income</th>\n",
       "      <th>income_gini</th>\n",
       "      <th>...</th>\n",
       "      <th>state</th>\n",
       "      <th>county</th>\n",
       "      <th>tract</th>\n",
       "      <th>area_sqkm</th>\n",
       "      <th>pct_rented</th>\n",
       "      <th>pct_hh_female</th>\n",
       "      <th>pct_bachelor</th>\n",
       "      <th>pct_white</th>\n",
       "      <th>sub_30</th>\n",
       "      <th>geometry</th>\n",
       "    </tr>\n",
       "  </thead>\n",
       "  <tbody>\n",
       "    <tr>\n",
       "      <th>0</th>\n",
       "      <td>06073018510</td>\n",
       "      <td>38.2</td>\n",
       "      <td>3057.0</td>\n",
       "      <td>2348.0</td>\n",
       "      <td>1362.0</td>\n",
       "      <td>3057.0</td>\n",
       "      <td>301.0</td>\n",
       "      <td>68.0</td>\n",
       "      <td>69868.0</td>\n",
       "      <td>0.3608</td>\n",
       "      <td>...</td>\n",
       "      <td>06</td>\n",
       "      <td>073</td>\n",
       "      <td>018510</td>\n",
       "      <td>1.997574</td>\n",
       "      <td>0.290393</td>\n",
       "      <td>0.098463</td>\n",
       "      <td>0.022244</td>\n",
       "      <td>0.768073</td>\n",
       "      <td>False</td>\n",
       "      <td>POLYGON ((-13064367.720 3923018.450, -13064295...</td>\n",
       "    </tr>\n",
       "    <tr>\n",
       "      <th>1</th>\n",
       "      <td>06073019803</td>\n",
       "      <td>38.6</td>\n",
       "      <td>4937.0</td>\n",
       "      <td>4023.0</td>\n",
       "      <td>2175.0</td>\n",
       "      <td>4937.0</td>\n",
       "      <td>546.0</td>\n",
       "      <td>0.0</td>\n",
       "      <td>87188.0</td>\n",
       "      <td>0.3979</td>\n",
       "      <td>...</td>\n",
       "      <td>06</td>\n",
       "      <td>073</td>\n",
       "      <td>019803</td>\n",
       "      <td>3.798710</td>\n",
       "      <td>0.469031</td>\n",
       "      <td>0.110593</td>\n",
       "      <td>0.000000</td>\n",
       "      <td>0.814867</td>\n",
       "      <td>False</td>\n",
       "      <td>POLYGON ((-13060775.220 3919430.280, -13060771...</td>\n",
       "    </tr>\n",
       "    <tr>\n",
       "      <th>2</th>\n",
       "      <td>06073017502</td>\n",
       "      <td>38.8</td>\n",
       "      <td>3959.0</td>\n",
       "      <td>3417.0</td>\n",
       "      <td>1554.0</td>\n",
       "      <td>3959.0</td>\n",
       "      <td>351.0</td>\n",
       "      <td>27.0</td>\n",
       "      <td>89182.0</td>\n",
       "      <td>0.5150</td>\n",
       "      <td>...</td>\n",
       "      <td>06</td>\n",
       "      <td>073</td>\n",
       "      <td>017502</td>\n",
       "      <td>1.908249</td>\n",
       "      <td>0.456036</td>\n",
       "      <td>0.088659</td>\n",
       "      <td>0.006820</td>\n",
       "      <td>0.863097</td>\n",
       "      <td>False</td>\n",
       "      <td>POLYGON ((-13056357.950 3901728.420, -13056338...</td>\n",
       "    </tr>\n",
       "    <tr>\n",
       "      <th>3</th>\n",
       "      <td>06073017303</td>\n",
       "      <td>44.4</td>\n",
       "      <td>3009.0</td>\n",
       "      <td>2730.0</td>\n",
       "      <td>1345.0</td>\n",
       "      <td>3009.0</td>\n",
       "      <td>311.0</td>\n",
       "      <td>0.0</td>\n",
       "      <td>155350.0</td>\n",
       "      <td>0.4737</td>\n",
       "      <td>...</td>\n",
       "      <td>06</td>\n",
       "      <td>073</td>\n",
       "      <td>017303</td>\n",
       "      <td>3.660110</td>\n",
       "      <td>0.317426</td>\n",
       "      <td>0.103357</td>\n",
       "      <td>0.000000</td>\n",
       "      <td>0.907278</td>\n",
       "      <td>False</td>\n",
       "      <td>POLYGON ((-13056010.520 3897285.970, -13055958...</td>\n",
       "    </tr>\n",
       "    <tr>\n",
       "      <th>4</th>\n",
       "      <td>06073017200</td>\n",
       "      <td>50.7</td>\n",
       "      <td>4338.0</td>\n",
       "      <td>4163.0</td>\n",
       "      <td>1919.0</td>\n",
       "      <td>4338.0</td>\n",
       "      <td>311.0</td>\n",
       "      <td>0.0</td>\n",
       "      <td>122563.0</td>\n",
       "      <td>0.5662</td>\n",
       "      <td>...</td>\n",
       "      <td>06</td>\n",
       "      <td>073</td>\n",
       "      <td>017200</td>\n",
       "      <td>5.541073</td>\n",
       "      <td>0.354475</td>\n",
       "      <td>0.071692</td>\n",
       "      <td>0.000000</td>\n",
       "      <td>0.959659</td>\n",
       "      <td>False</td>\n",
       "      <td>POLYGON ((-13054971.800 3892714.890, -13054867...</td>\n",
       "    </tr>\n",
       "  </tbody>\n",
       "</table>\n",
       "<p>5 rows × 25 columns</p>\n",
       "</div>"
      ],
      "text/plain": [
       "         GEOID  median_age  total_pop  total_pop_white  tt_work  hh_total  \\\n",
       "0  06073018510        38.2     3057.0           2348.0   1362.0    3057.0   \n",
       "1  06073019803        38.6     4937.0           4023.0   2175.0    4937.0   \n",
       "2  06073017502        38.8     3959.0           3417.0   1554.0    3959.0   \n",
       "3  06073017303        44.4     3009.0           2730.0   1345.0    3009.0   \n",
       "4  06073017200        50.7     4338.0           4163.0   1919.0    4338.0   \n",
       "\n",
       "   hh_female  total_bachelor  median_hh_income  income_gini  ...  state  \\\n",
       "0      301.0            68.0           69868.0       0.3608  ...     06   \n",
       "1      546.0             0.0           87188.0       0.3979  ...     06   \n",
       "2      351.0            27.0           89182.0       0.5150  ...     06   \n",
       "3      311.0             0.0          155350.0       0.4737  ...     06   \n",
       "4      311.0             0.0          122563.0       0.5662  ...     06   \n",
       "\n",
       "   county   tract  area_sqkm pct_rented pct_hh_female pct_bachelor pct_white  \\\n",
       "0     073  018510   1.997574   0.290393      0.098463     0.022244  0.768073   \n",
       "1     073  019803   3.798710   0.469031      0.110593     0.000000  0.814867   \n",
       "2     073  017502   1.908249   0.456036      0.088659     0.006820  0.863097   \n",
       "3     073  017303   3.660110   0.317426      0.103357     0.000000  0.907278   \n",
       "4     073  017200   5.541073   0.354475      0.071692     0.000000  0.959659   \n",
       "\n",
       "   sub_30                                           geometry  \n",
       "0   False  POLYGON ((-13064367.720 3923018.450, -13064295...  \n",
       "1   False  POLYGON ((-13060775.220 3919430.280, -13060771...  \n",
       "2   False  POLYGON ((-13056357.950 3901728.420, -13056338...  \n",
       "3   False  POLYGON ((-13056010.520 3897285.970, -13055958...  \n",
       "4   False  POLYGON ((-13054971.800 3892714.890, -13054867...  \n",
       "\n",
       "[5 rows x 25 columns]"
      ]
     },
     "execution_count": 17,
     "metadata": {},
     "output_type": "execute_result"
    }
   ],
   "source": [
    "db.head()"
   ]
  },
  {
   "cell_type": "markdown",
   "metadata": {},
   "source": [
    "To make things easier later on, let us collect the variables we will use to\n",
    "characterize Census tracts. These variables capture different aspects of the socio-\n",
    "economic reality of each area and, taken together, they provide a comprehensive\n",
    "characterization of San Diego as a whole:"
   ]
  },
  {
   "cell_type": "code",
   "execution_count": 18,
   "metadata": {},
   "outputs": [],
   "source": [
    "cluster_variables =  [\n",
    "    'median_house_value', # Median house value\n",
    "    'pct_white',          # Percent of tract population that is white\n",
    "    'pct_rented',         # Percent of households that are rented\n",
    "    'pct_hh_female',      # Percent of female-led households \n",
    "    'pct_bachelor',       # Percent of tract population with a Bachelors degree\n",
    "    'median_no_rooms',    # Median number of rooms in the tract's households\n",
    "    'income_gini',        # Gini index measuring tract wealth inequality\n",
    "    'median_age',         # Median age of tract population\n",
    "    'tt_work'             # Travel time to work \n",
    "]"
   ]
  },
  {
   "cell_type": "code",
   "execution_count": 19,
   "metadata": {},
   "outputs": [
    {
     "data": {
      "text/plain": [
       "['median_house_value',\n",
       " 'pct_white',\n",
       " 'pct_rented',\n",
       " 'pct_hh_female',\n",
       " 'pct_bachelor',\n",
       " 'median_no_rooms',\n",
       " 'income_gini',\n",
       " 'median_age',\n",
       " 'tt_work']"
      ]
     },
     "execution_count": 19,
     "metadata": {},
     "output_type": "execute_result"
    }
   ],
   "source": [
    "cluster_variables"
   ]
  },
  {
   "cell_type": "markdown",
   "metadata": {},
   "source": [
    "### Exploring the data\n",
    "\n",
    "Now let's start building up our understanding of this\n",
    "dataset through both visual and summary statistical measures.\n",
    "\n",
    "We will start by\n",
    "looking at the spatial distribution of each variable alone.\n",
    "Let's use sequential color scheme for the nine attributes and compare these choropleth maps side-by-side:\n",
    "https://matplotlib.org/3.1.1/gallery/color/colormap_reference.html\n",
    "(Yellow and light means low Red and Dark means High and organge is in the middle)"
   ]
  },
  {
   "cell_type": "code",
   "execution_count": 21,
   "metadata": {},
   "outputs": [
    {
     "ename": "ImportError",
     "evalue": "The 'mapclassify' package (>= 2.4.0) is required to use the 'scheme' keyword.",
     "output_type": "error",
     "traceback": [
      "\u001b[0;31m---------------------------------------------------------------------------\u001b[0m",
      "\u001b[0;31mModuleNotFoundError\u001b[0m                       Traceback (most recent call last)",
      "\u001b[0;32m/usr/local/lib/python3.9/site-packages/geopandas/plotting.py\u001b[0m in \u001b[0;36mplot_dataframe\u001b[0;34m(df, column, cmap, color, ax, cax, categorical, legend, scheme, k, vmin, vmax, markersize, figsize, legend_kwds, categories, classification_kwds, missing_kwds, aspect, **style_kwds)\u001b[0m\n\u001b[1;32m    734\u001b[0m         \u001b[0;32mtry\u001b[0m\u001b[0;34m:\u001b[0m\u001b[0;34m\u001b[0m\u001b[0;34m\u001b[0m\u001b[0m\n\u001b[0;32m--> 735\u001b[0;31m             \u001b[0;32mimport\u001b[0m \u001b[0mmapclassify\u001b[0m\u001b[0;34m\u001b[0m\u001b[0;34m\u001b[0m\u001b[0m\n\u001b[0m\u001b[1;32m    736\u001b[0m \u001b[0;34m\u001b[0m\u001b[0m\n",
      "\u001b[0;31mModuleNotFoundError\u001b[0m: No module named 'mapclassify'",
      "\nDuring handling of the above exception, another exception occurred:\n",
      "\u001b[0;31mImportError\u001b[0m                               Traceback (most recent call last)",
      "\u001b[0;32m<ipython-input-21-a975c78c09c9>\u001b[0m in \u001b[0;36m<module>\u001b[0;34m\u001b[0m\n\u001b[1;32m      7\u001b[0m     \u001b[0max\u001b[0m \u001b[0;34m=\u001b[0m \u001b[0maxs\u001b[0m\u001b[0;34m[\u001b[0m\u001b[0mi\u001b[0m\u001b[0;34m]\u001b[0m\u001b[0;34m\u001b[0m\u001b[0;34m\u001b[0m\u001b[0m\n\u001b[1;32m      8\u001b[0m     \u001b[0;31m# Plot the map\u001b[0m\u001b[0;34m\u001b[0m\u001b[0;34m\u001b[0m\u001b[0;34m\u001b[0m\u001b[0m\n\u001b[0;32m----> 9\u001b[0;31m     db.plot(column=col, ax=ax, scheme='Quantiles', \n\u001b[0m\u001b[1;32m     10\u001b[0m             linewidth=0, cmap='plasma')\n\u001b[1;32m     11\u001b[0m     \u001b[0;31m# Remove axis clutter\u001b[0m\u001b[0;34m\u001b[0m\u001b[0;34m\u001b[0m\u001b[0;34m\u001b[0m\u001b[0m\n",
      "\u001b[0;32m/usr/local/lib/python3.9/site-packages/geopandas/plotting.py\u001b[0m in \u001b[0;36m__call__\u001b[0;34m(self, *args, **kwargs)\u001b[0m\n\u001b[1;32m    948\u001b[0m         \u001b[0mkind\u001b[0m \u001b[0;34m=\u001b[0m \u001b[0mkwargs\u001b[0m\u001b[0;34m.\u001b[0m\u001b[0mpop\u001b[0m\u001b[0;34m(\u001b[0m\u001b[0;34m\"kind\"\u001b[0m\u001b[0;34m,\u001b[0m \u001b[0;34m\"geo\"\u001b[0m\u001b[0;34m)\u001b[0m\u001b[0;34m\u001b[0m\u001b[0;34m\u001b[0m\u001b[0m\n\u001b[1;32m    949\u001b[0m         \u001b[0;32mif\u001b[0m \u001b[0mkind\u001b[0m \u001b[0;34m==\u001b[0m \u001b[0;34m\"geo\"\u001b[0m\u001b[0;34m:\u001b[0m\u001b[0;34m\u001b[0m\u001b[0;34m\u001b[0m\u001b[0m\n\u001b[0;32m--> 950\u001b[0;31m             \u001b[0;32mreturn\u001b[0m \u001b[0mplot_dataframe\u001b[0m\u001b[0;34m(\u001b[0m\u001b[0mdata\u001b[0m\u001b[0;34m,\u001b[0m \u001b[0;34m*\u001b[0m\u001b[0margs\u001b[0m\u001b[0;34m,\u001b[0m \u001b[0;34m**\u001b[0m\u001b[0mkwargs\u001b[0m\u001b[0;34m)\u001b[0m\u001b[0;34m\u001b[0m\u001b[0;34m\u001b[0m\u001b[0m\n\u001b[0m\u001b[1;32m    951\u001b[0m         \u001b[0;32mif\u001b[0m \u001b[0mkind\u001b[0m \u001b[0;32min\u001b[0m \u001b[0mself\u001b[0m\u001b[0;34m.\u001b[0m\u001b[0m_pandas_kinds\u001b[0m\u001b[0;34m:\u001b[0m\u001b[0;34m\u001b[0m\u001b[0;34m\u001b[0m\u001b[0m\n\u001b[1;32m    952\u001b[0m             \u001b[0;31m# Access pandas plots\u001b[0m\u001b[0;34m\u001b[0m\u001b[0;34m\u001b[0m\u001b[0;34m\u001b[0m\u001b[0m\n",
      "\u001b[0;32m/usr/local/lib/python3.9/site-packages/geopandas/plotting.py\u001b[0m in \u001b[0;36mplot_dataframe\u001b[0;34m(df, column, cmap, color, ax, cax, categorical, legend, scheme, k, vmin, vmax, markersize, figsize, legend_kwds, categories, classification_kwds, missing_kwds, aspect, **style_kwds)\u001b[0m\n\u001b[1;32m    736\u001b[0m \u001b[0;34m\u001b[0m\u001b[0m\n\u001b[1;32m    737\u001b[0m         \u001b[0;32mexcept\u001b[0m \u001b[0mImportError\u001b[0m\u001b[0;34m:\u001b[0m\u001b[0;34m\u001b[0m\u001b[0;34m\u001b[0m\u001b[0m\n\u001b[0;32m--> 738\u001b[0;31m             \u001b[0;32mraise\u001b[0m \u001b[0mImportError\u001b[0m\u001b[0;34m(\u001b[0m\u001b[0mmc_err\u001b[0m\u001b[0;34m)\u001b[0m\u001b[0;34m\u001b[0m\u001b[0;34m\u001b[0m\u001b[0m\n\u001b[0m\u001b[1;32m    739\u001b[0m \u001b[0;34m\u001b[0m\u001b[0m\n\u001b[1;32m    740\u001b[0m         \u001b[0;32mif\u001b[0m \u001b[0mmapclassify\u001b[0m\u001b[0;34m.\u001b[0m\u001b[0m__version__\u001b[0m \u001b[0;34m<\u001b[0m \u001b[0mLooseVersion\u001b[0m\u001b[0;34m(\u001b[0m\u001b[0;34m\"2.4.0\"\u001b[0m\u001b[0;34m)\u001b[0m\u001b[0;34m:\u001b[0m\u001b[0;34m\u001b[0m\u001b[0;34m\u001b[0m\u001b[0m\n",
      "\u001b[0;31mImportError\u001b[0m: The 'mapclassify' package (>= 2.4.0) is required to use the 'scheme' keyword."
     ]
    },
    {
     "data": {
      "image/png": "[encoded data removed]",
      "text/plain": [
       "<Figure size 864x864 with 9 Axes>"
      ]
     },
     "metadata": {
      "needs_background": "light"
     },
     "output_type": "display_data"
    }
   ],
   "source": [
    "f, axs = plt.subplots(nrows=3, ncols=3, figsize=(12, 12))\n",
    "# Make the axes accessible with single indexing\n",
    "axs = axs.flatten()\n",
    "# Start a loop over all the variables of interest\n",
    "for i, col in enumerate(cluster_variables):\n",
    "    # select the axis where the map will go\n",
    "    ax = axs[i]\n",
    "    # Plot the map\n",
    "    db.plot(column=col, ax=ax, scheme='Quantiles', \n",
    "            linewidth=0, cmap='plasma')\n",
    "    # Remove axis clutter\n",
    "    ax.set_axis_off()\n",
    "    # Set the axis title to the name of variable being plotted\n",
    "    ax.set_title(col)\n",
    "# Display the figure\n",
    "plt.show()"
   ]
  },
  {
   "cell_type": "markdown",
   "metadata": {},
   "source": [
    "Many visual patterns jump out from the maps, revealing both commonalities as\n",
    "well as differences across the spatial distributions of the individual variables.\n",
    "Several variables tend to increase in value from the east to the west\n",
    "(`pct_rented`, `median_house_value`, `median_no_rooms`, and `tt_work`) while others\n",
    "\n",
    "Some have a spatial trend in the opposite direction (`pct_rented`, `median_no_rooms`).\n",
    "\n",
    "If all variables display very similar \n",
    "spatial patterns, the amount of useful information across the maps is \n",
    "actually smaller than it appears, so cluster profiles may be much less useful as well.\n",
    "\n",
    "It is also important to consider whether the variables display any\n",
    "spatial autocorrelation, as this will affect the spatial structure of the\n",
    "resulting clusters. \n",
    "\n",
    "\n",
    "First, we need to build a spatial weights matrix that encodes the spatial\n",
    "relationships in our San Diego data. We will start with queen contiguity:"
   ]
  },
  {
   "cell_type": "code",
   "execution_count": null,
   "metadata": {},
   "outputs": [],
   "source": [
    "w = Queen.from_dataframe(db)"
   ]
  },
  {
   "cell_type": "markdown",
   "metadata": {},
   "source": [
    "As we have seen before, `w` does not contain any islands:"
   ]
  },
  {
   "cell_type": "code",
   "execution_count": null,
   "metadata": {},
   "outputs": [],
   "source": [
    "w.islands"
   ]
  },
  {
   "cell_type": "code",
   "execution_count": null,
   "metadata": {},
   "outputs": [],
   "source": [
    "len(db)"
   ]
  },
  {
   "cell_type": "markdown",
   "metadata": {},
   "source": [
    "Now let's calculate Moran's I for the variables being used. This will measure\n",
    "the extent to which each variable contains spatial structure:"
   ]
  },
  {
   "cell_type": "code",
   "execution_count": null,
   "metadata": {},
   "outputs": [],
   "source": [
    "# Set seed for reproducibility\n",
    "numpy.random.seed(123456)\n",
    "# Calculate Moran's I for each variable\n",
    "mi_results = [Moran(db[variable], w) for variable in cluster_variables]\n",
    "# Display on table\n",
    "table = pandas.DataFrame([(variable, res.I, res.p_sim) \\\n",
    "                          for variable,res \\\n",
    "                          in zip(cluster_variables, mi_results)\n",
    "                         ], columns=['Variable', \"Moran's I\", 'P-value']\n",
    "                        )\\\n",
    "              .set_index('Variable')\n",
    "table"
   ]
  },
  {
   "cell_type": "markdown",
   "metadata": {},
   "source": [
    "Each of the variables displays significant positive spatial autocorrelation,\n",
    "that Tobler's law. This means we also should expect clusters to have\n",
    "spatial coherence in addition to the coherence in their profiles,\n",
    "since there is strong positive autocorrelation in all of the input variables."
   ]
  },
  {
   "cell_type": "code",
   "execution_count": null,
   "metadata": {},
   "outputs": [],
   "source": [
    "max(db['median_house_value'])   #Tract with Max Median House Value"
   ]
  },
  {
   "cell_type": "code",
   "execution_count": null,
   "metadata": {},
   "outputs": [],
   "source": [
    "min(db['median_house_value'])   #Tract with Min Median House Value Median House Value"
   ]
  },
  {
   "cell_type": "code",
   "execution_count": null,
   "metadata": {},
   "outputs": [],
   "source": [
    "sum(db['median_house_value'])/len(db['median_house_value']) #Average of Median House Value"
   ]
  },
  {
   "cell_type": "code",
   "execution_count": null,
   "metadata": {},
   "outputs": [],
   "source": [
    "sum(db['tt_work'])/len(db['tt_work'])/60 #averate tt_work"
   ]
  },
  {
   "cell_type": "code",
   "execution_count": null,
   "metadata": {},
   "outputs": [],
   "source": [
    "max(db['tt_work'])/60   #max TT work is Six Hours!"
   ]
  },
  {
   "cell_type": "markdown",
   "metadata": {},
   "source": [
    "Let's  consider the\n",
    "spatial correlation between variables. Here, we will measure this using the\n",
    "bivariate correlation in the maps of covariates themselves.\n",
    "\n",
    "Given the 9 maps, there are 36 pairs of maps that must be compared. This is too \n",
    "many maps to process visually, so we can turn to an alternative tool to\n",
    "explicitly focus on the bivariate relations between each pair of attributes."
   ]
  },
  {
   "cell_type": "code",
   "execution_count": null,
   "metadata": {},
   "outputs": [],
   "source": [
    "_=seaborn.pairplot(db[cluster_variables], kind='reg', diag_kind='kde')\n",
    "plt.show() #diagonals are pdfs of each variable\n",
    "\n",
    "#how accurate is this because we have listed 9 variables and we correlating only 2 to find pattersn"
   ]
  },
  {
   "cell_type": "markdown",
   "metadata": {},
   "source": [
    "Two different types of plots are contained in the scatterplot matrix. On the\n",
    "diagonal are the density functions for the nine attributes. These allow for an\n",
    "inspection of the overall morphology of the attribute's value distribution.\n",
    "Examining these we see that our selection of variables includes those that are\n",
    "negatively skewed (`pct_white` and `pct_hh_female`) as well as positively skewed\n",
    "(`median_house_value`, `pct_bachelor`, and `tt_work`).\n",
    "\n",
    "The second type of visualization lies in the off-diagonal cells of the matrix; \n",
    "these are bi-variate scatterplots. Each cell shows the association between one\n",
    "pair of variables. Several of these cells indicate positive linear\n",
    "associations (`median_age` Vs. `median_house_value`, `median_house_value` Vs. `median_no_rooms`)\n",
    "while other cells display negative correlation (`median_house_value` Vs. `pct_rented`,\n",
    "`median_no_rooms` Vs. `pct_rented`, and `median_age` Vs. `pct_rented`). The one variable\n",
    "that tends to have consistenty weak association with the other variables is\n",
    "`tt_work`, and in part this appears to reflect its rather concentrated \n",
    "distribution as seen on the lower right diagonal corner cell.\n",
    "\n",
    "## Geodemographic Clusters in San Diego Census Tracts\n",
    "\n",
    "We now will move\n",
    "beyond the implicitly bi-variate focus to consider the full multidimensional\n",
    "nature of this data set. \n",
    "\n",
    "Altogether, these methods use\n",
    "multivariate clustering algorithms to construct a known number of\n",
    "clusters ($k$), where the number of clusters is typically smaller than the \n",
    "number of observations to be clustered. \n",
    "\n",
    "Each cluster is given a unique label,\n",
    "and these labels are mapped. Using the clusters' profile and label, the map of \n",
    "labels can be interpreted to get a sense of the spatial distribution of \n",
    "sociodemographic traits. The power of clustering comes\n",
    "from taking statistical variation across several dimensions and compressing it\n",
    "into a single categorical one that we can visualize through a map. To\n",
    "demonstrate the variety of approaches in clustering, we will show a popular\n",
    "clustering algorithms: k-means.\n",
    "\n",
    "### K-means\n",
    "\n",
    "K-means is probably the most widely used approach to\n",
    "cluster a dataset. The algorithm groups observations into a\n",
    "prespecified number of clusters so that that each observation is\n",
    "closer to the mean of its own cluster than it is to the mean of any other cluster.\n",
    "\n",
    "The k-means problem is solved by iterating between an assignment step and an update step. \n",
    "First, all observations are randomly assigned one of the $k$ labels. \n",
    "\n",
    "Next, the multivariate mean over all covariates is calculated for each of the clusters.\n",
    "Then, each observation is reassigned to the cluster with the closest mean. \n",
    "\n",
    "If the observation is already assigned to the cluster whose mean it is closest to,\n",
    "the observation remains in that cluster. This assignment-update process continues\n",
    "until no further reassignments are necessary.\n",
    "\n",
    "The nature of this algorithm requires us to select the number of clusters we \n",
    "want to create. The right number of clusters is unknown in practice. For\n",
    "illustration, we will use $k=5$ in the `KMeans` implementation from\n",
    "`scikit-learn`. To proceed, we first create a `KMeans` clusterer:"
   ]
  },
  {
   "cell_type": "code",
   "execution_count": null,
   "metadata": {},
   "outputs": [],
   "source": [
    "# Initialise KMeans instance\n",
    "kmeans = KMeans(n_clusters=5)\n",
    "\n",
    "# we cluster the census tracts"
   ]
  },
  {
   "cell_type": "markdown",
   "metadata": {},
   "source": [
    "Next, we call the `fit` method to actually apply the k-means algorithm to our data:"
   ]
  },
  {
   "cell_type": "code",
   "execution_count": null,
   "metadata": {},
   "outputs": [],
   "source": [
    "# Set the seed for reproducibility\n",
    "numpy.random.seed(1234)\n",
    "# Run K-Means algorithm\n",
    "k5cls = kmeans.fit(db[cluster_variables])"
   ]
  },
  {
   "cell_type": "markdown",
   "metadata": {},
   "source": [
    "Now that the clusters have been assigned, we can examine the label vector, which \n",
    "records the cluster to which each observation is assigned:"
   ]
  },
  {
   "cell_type": "code",
   "execution_count": null,
   "metadata": {},
   "outputs": [],
   "source": [
    "k5cls.labels_"
   ]
  },
  {
   "cell_type": "markdown",
   "metadata": {},
   "source": [
    "The integer labels should be viewed as denoting membership only &mdash;\n",
    "the numerical differences between the values for the labels are meaningless.\n",
    "The profiles of the various clusters must be further explored by looking\n",
    "at the values of each dimension. \n",
    "\n",
    "But, before we do that, let's make a map.\n",
    "\n",
    "### Spatial Distribution of Clusters\n",
    "\n",
    "Having obtained the cluster labels, we can display the spatial\n",
    "distribution of the clusters by using the labels as the categories in a\n",
    "choropleth map. This allows us to quickly grasp any sort of spatial pattern the \n",
    "clusters might have. Since clusters represent areas with similar\n",
    "characteristics, mapping their labels allows to see to what extent similar areas tend\n",
    "to have similar locations.\n",
    "Thus, this gives us one map that incorporates the information of from all nine covariates."
   ]
  },
  {
   "cell_type": "code",
   "execution_count": null,
   "metadata": {},
   "outputs": [],
   "source": [
    "# Assign labels into a column\n",
    "db['k5cls'] = k5cls.labels_\n",
    "# Setup figure and ax\n",
    "f, ax = plt.subplots(1, figsize=(9, 9))\n",
    "# Plot unique values choropleth including \n",
    "# a legend and with no boundary lines\n",
    "db.plot(\n",
    "    column='k5cls', categorical=True, legend=True, linewidth=0, ax=ax\n",
    ")\n",
    "# Remove axis\n",
    "ax.set_axis_off()\n",
    "# Display the map\n",
    "plt.show()"
   ]
  },
  {
   "cell_type": "markdown",
   "metadata": {},
   "source": [
    "We can see that a set of tracts with the same color emerge.\n",
    "\n",
    "Our eyes are drawn to the larger polygons in the eastern part of the\n",
    "county, giving the impression that cluster 2 is the dominant cluster. While this\n",
    "seems to be true in terms of land area (and we will verify this below).\n",
    "\n",
    "### Statistical Analysis of the Cluster Map\n",
    "\n",
    "To complement the geovisualization of the clusters, we can explore the\n",
    "statistical properties of the cluster map. This process allows us to delve\n",
    "into what observations are part of each cluster and what their\n",
    "characteristics are.\n",
    "\n",
    "This gives us the profile of each cluster so we can interpret the meaning of the\n",
    "labels we've obtained. We can start, for example, by\n",
    "considering cardinality, or the count of observations in each cluster:"
   ]
  },
  {
   "cell_type": "code",
   "execution_count": null,
   "metadata": {},
   "outputs": [],
   "source": [
    "# Group data table by cluster label and count observations\n",
    "k5sizes = db.groupby('k5cls').size()\n",
    "k5sizes"
   ]
  },
  {
   "cell_type": "markdown",
   "metadata": {},
   "source": [
    "And we can get a visual representation of cardinality as well:"
   ]
  },
  {
   "cell_type": "code",
   "execution_count": null,
   "metadata": {},
   "outputs": [],
   "source": [
    "_ = k5sizes.plot.bar()\n",
    "plt.show()"
   ]
  },
  {
   "cell_type": "markdown",
   "metadata": {},
   "source": [
    "There are substantial differences in the sizes of the five clusters, with two very\n",
    "large clusters (0, 4), one medium sized cluster (2), and two small clusters (1,\n",
    "3). Cluster 0 is the largest when measured by the number of assigned tracts.\n",
    "This confirms our intuition from the map above, where we got the visual impression\n",
    "that tracts in cluster 0 seemed to have the largest area. Let's see if this is \n",
    "the case. To do so we can use the `dissolve` operation in `geopandas`, which \n",
    "combines all tracts belonging to each cluster into a single\n",
    "polygon object. After we have dissolved all the members of the clusters,\n",
    "we report the total land area of the cluster:"
   ]
  },
  {
   "cell_type": "code",
   "execution_count": null,
   "metadata": {},
   "outputs": [],
   "source": [
    "# Dissolve areas by Cluster, aggregate by summing, and keep column for area\n",
    "areas = db.dissolve(by='k5cls', aggfunc='sum')['area_sqkm']\n",
    "areas"
   ]
  },
  {
   "cell_type": "markdown",
   "metadata": {},
   "source": [
    "And, to show this visually:"
   ]
  },
  {
   "cell_type": "code",
   "execution_count": null,
   "metadata": {},
   "outputs": [],
   "source": [
    "areas.plot.bar()\n",
    "plt.show()"
   ]
  },
  {
   "cell_type": "markdown",
   "metadata": {},
   "source": [
    "Our visual impression is confirmed: cluster 0 contains tracts that\n",
    "together comprise 6,636 square kilometers (approximately 2562 square miles),\n",
    "which accounts for over half of the total land area in the county:"
   ]
  },
  {
   "cell_type": "code",
   "execution_count": null,
   "metadata": {},
   "outputs": [],
   "source": [
    "areas[0]/areas.sum()"
   ]
  },
  {
   "cell_type": "markdown",
   "metadata": {},
   "source": [
    "Let's move on to build the profiles for each cluster. Again, the profiles is what\n",
    "provides the conceptual shorthand, moving from the arbitrary label to a meaningful\n",
    "collection of observations with similar attributes. To build a basic profile, we can\n",
    "compute the means of each of the attributes in every cluster:"
   ]
  },
  {
   "cell_type": "code",
   "execution_count": null,
   "metadata": {},
   "outputs": [],
   "source": [
    "# Group table by cluster label, keep the variables used \n",
    "# for clustering, and obtain their mean\n",
    "k5means = db.groupby('k5cls')[cluster_variables].mean()\n",
    "k5means.T.round(2)"
   ]
  },
  {
   "cell_type": "markdown",
   "metadata": {},
   "source": [
    "We see that cluster 3, for example, is composed of tracts that have\n",
    "the highest average `median_house_value`, and also the highest level of inequality\n",
    "(`income_gini`); and cluster 3 contains an older population (`median_age`)\n",
    "who tend to live in housing units with more rooms (`median_no_rooms`).\n",
    "Average values, however, can hide a great deal of detail and, in some cases,\n",
    "give wrong impressions about the type of data distribution they represent. To\n",
    "obtain more detailed profiles, we can use the `describe` command in `pandas`, \n",
    "after grouping our observations by their clusters:"
   ]
  },
  {
   "cell_type": "code",
   "execution_count": null,
   "metadata": {},
   "outputs": [],
   "source": [
    "# Group table by cluster label, keep the variables used \n",
    "# for clustering, and obtain their descriptive summary\n",
    "k5desc = db.groupby('k5cls')[cluster_variables].describe()\n",
    "# Loop over each cluster and print a table with descriptives\n",
    "for cluster in k5desc.T:\n",
    "    print('\\n\\t---------\\n\\tCluster %i'%cluster)\n",
    "    print(k5desc.T[cluster].unstack())"
   ]
  },
  {
   "cell_type": "markdown",
   "metadata": {},
   "source": [
    "However, this approach quickly gets out of hand: more detailed profiles can simply\n",
    "return to an unwieldy mess of numbers. A better approach to constructing\n",
    "cluster profiles is be to draw the distributions of cluster members' data.\n",
    "To do this we need to \"tidy up\" the dataset. A tidy dataset ([Wickham,\n",
    "2014](https://www.jstatsoft.org/article/view/v059i10)) is one where every row is\n",
    "an observation, and every column is a variable. Thus, a few steps are required \n",
    "to tidy up our labelled data:"
   ]
  },
  {
   "cell_type": "code",
   "execution_count": null,
   "metadata": {},
   "outputs": [],
   "source": [
    "# Index db on cluster ID\n",
    "tidy_db = db.set_index('k5cls')\n",
    "# Keep only variables used for clustering\n",
    "tidy_db = tidy_db[cluster_variables]\n",
    "# Stack column names into a column, obtaining \n",
    "# a \"long\" version of the dataset\n",
    "tidy_db = tidy_db.stack()\n",
    "# Take indices into proper columns\n",
    "tidy_db = tidy_db.reset_index()\n",
    "# Rename column names\n",
    "tidy_db = tidy_db.rename(columns={\n",
    "                        'level_1': 'Attribute', \n",
    "                        0: 'Values'})\n",
    "# Check out result\n",
    "tidy_db.head(20)"
   ]
  },
  {
   "cell_type": "code",
   "execution_count": null,
   "metadata": {},
   "outputs": [],
   "source": [
    "len(tidy_db)"
   ]
  },
  {
   "cell_type": "markdown",
   "metadata": {},
   "source": [
    "Now we are ready to plot. Below, we'll show the distribution of each cluster's values\n",
    "for each variable. This gives us the full distributional profile of each cluster:"
   ]
  },
  {
   "cell_type": "code",
   "execution_count": null,
   "metadata": {},
   "outputs": [],
   "source": [
    "# Setup the facets\n",
    "facets = seaborn.FacetGrid(data=tidy_db, col='Attribute', hue='k5cls', \\\n",
    "                  sharey=False, sharex=False, aspect=2, col_wrap=3)\n",
    "# Build the plot from `sns.kdeplot`\n",
    "_ = facets.map(seaborn.kdeplot, 'Values', shade=True).add_legend()"
   ]
  },
  {
   "cell_type": "markdown",
   "metadata": {},
   "source": [
    "This allows us to see that, while some attributes such as the percentage of\n",
    "female households (`pct_hh_female`) display largely the same distribution for\n",
    "each cluster, others paint a much more divided picture (e.g. `median_house_value`).\n",
    "Taken altogether, these graphs allow us to start delving into the multidimensional \n",
    "complexity of each cluster and the types of areas behind them.\n",
    "\n",
    "## Other Clustering Algorithms\n",
    "k-means is only one clustering algorithm. There are\n",
    "plenty more. Agglomerative clustering works by building a hierarchy of\n",
    "clustering solutions that starts with all singletons (each observation is a single\n",
    "cluster in itself) and ends with all observations assigned to the same cluster.\n",
    "These extremes are not very useful in themselves. But, in between, the hierarchy\n",
    "contains many distinct clustering solutions with varying levels of detail. \n",
    "The intuition behind the algorithm is also rather straightforward: \n",
    "\n",
    "1) begin with everyone as part of its own cluster; \n",
    "2) find the two closest observations based on a distance metric (e.g. euclidean); \n",
    "3) join them into a new cluster; \n",
    "4) repeat steps 2) and 3) until reaching the degree of aggregation desired. \n",
    "\n",
    "The algorithm is thus called \"agglomerative\"\n",
    "because it starts with individual clusters and \"agglomerates\" them into fewer\n",
    "and fewer clusters containing more and more observations each. Also, like with \n",
    "k-means, AHC does require the user to specify a number of clusters in advance.\n",
    "This is because, following from the mechanism the method has to build clusters, \n",
    "AHC can provide a solution with as many clusters as observations ($k=n$),\n",
    "or with a only one ($k=1$).\n",
    "\n"
   ]
  },
  {
   "cell_type": "code",
   "execution_count": null,
   "metadata": {},
   "outputs": [],
   "source": [
    "# Set seed for reproducibility\n",
    "numpy.random.seed(0)\n",
    "# Iniciate the algorithm\n",
    "model = AgglomerativeClustering(linkage='ward', n_clusters=5)\n",
    "# Run clustering\n",
    "model.fit(db[cluster_variables])\n",
    "# Assign labels to main data table\n",
    "db['ward5'] =model.labels_"
   ]
  },
  {
   "cell_type": "markdown",
   "metadata": {},
   "source": [
    "As above, we can check the number of observations that fall within each cluster:"
   ]
  },
  {
   "cell_type": "code",
   "execution_count": null,
   "metadata": {},
   "outputs": [],
   "source": [
    "ward5sizes = db.groupby('ward5').size()\n",
    "ward5sizes"
   ]
  },
  {
   "cell_type": "markdown",
   "metadata": {},
   "source": [
    "Further, we can check the simple average profiles of our clusters:"
   ]
  },
  {
   "cell_type": "code",
   "execution_count": null,
   "metadata": {},
   "outputs": [],
   "source": [
    "ward5means = db.groupby('ward5')[cluster_variables].mean()\n",
    "ward5means.T.round(3)"
   ]
  },
  {
   "cell_type": "markdown",
   "metadata": {},
   "source": [
    "And again, we can create a plot of the profiles' distributions (after properly \n",
    "tidying up):"
   ]
  },
  {
   "cell_type": "code",
   "execution_count": null,
   "metadata": {},
   "outputs": [],
   "source": [
    "# Index db on cluster ID\n",
    "tidy_db = db.set_index('ward5')\n",
    "# Keep only variables used for clustering\n",
    "tidy_db = tidy_db[cluster_variables]\n",
    "# Stack column names into a column, obtaining \n",
    "# a \"long\" version of the dataset\n",
    "tidy_db = tidy_db.stack()\n",
    "# Take indices into proper columns\n",
    "tidy_db = tidy_db.reset_index()\n",
    "# Rename column names\n",
    "tidy_db = tidy_db.rename(columns={\n",
    "                        'level_1': 'Attribute', \n",
    "                        0: 'Values'})\n",
    "# Check out result\n",
    "tidy_db.head()"
   ]
  },
  {
   "cell_type": "code",
   "execution_count": null,
   "metadata": {},
   "outputs": [],
   "source": [
    "# Setup the facets\n",
    "facets = seaborn.FacetGrid(data=tidy_db, col='Attribute', hue='ward5', \\\n",
    "                  sharey=False, sharex=False, aspect=2, col_wrap=3)\n",
    "# Build the plot as a `sns.kdeplot`\n",
    "_ = facets.map(seaborn.kdeplot, 'Values', shade=True).add_legend()\n",
    "plt.show()"
   ]
  },
  {
   "cell_type": "markdown",
   "metadata": {},
   "source": [
    "For the sake of brevity, we will not spend much time on the plots above.\n",
    "However, the interpretation is analogous to that of the k-means example.\n",
    "\n",
    "On the spatial side, we can explore the geographical dimension of the\n",
    "clustering solution by making a map the clusters:"
   ]
  },
  {
   "cell_type": "code",
   "execution_count": null,
   "metadata": {},
   "outputs": [],
   "source": [
    "db['ward5'] =model.labels_\n",
    "# Setup figure and ax\n",
    "f, ax = plt.subplots(1, figsize=(9, 9))\n",
    "# Plot unique values choropleth including a legend and with no boundary lines\n",
    "db.plot(column='ward5', categorical=True, legend=True, linewidth=0, ax=ax)\n",
    "# Remove axis\n",
    "ax.set_axis_off()\n",
    "# Keep axes proportionate\n",
    "plt.axis('equal')\n",
    "# Add title\n",
    "plt.title('Geodemographic Clusters (AHC, $k=5$)')\n",
    "# Display the map\n",
    "plt.show()"
   ]
  },
  {
   "cell_type": "markdown",
   "metadata": {},
   "source": [
    "And, to make comparisons simpler, we can display both the k-means and the AHC\n",
    "results side by side:"
   ]
  },
  {
   "cell_type": "code",
   "execution_count": null,
   "metadata": {},
   "outputs": [],
   "source": [
    "db['ward5'] =model.labels_\n",
    "# Setup figure and ax\n",
    "f, axs = plt.subplots(1, 2, figsize=(12, 6))\n",
    "\n",
    "ax = axs[0]\n",
    "# Plot unique values choropleth including a legend and with no boundary lines\n",
    "db.plot(column='ward5', categorical=True, cmap='Set2', \n",
    "        legend=True, linewidth=0, ax=ax)\n",
    "# Remove axis\n",
    "ax.set_axis_off()\n",
    "# Keep axes proportionate\n",
    "ax.axis('equal')\n",
    "# Add title\n",
    "ax.set_title('K-Means solution ($k=5$)')\n",
    "\n",
    "ax = axs[1]\n",
    "# Plot unique values choropleth including a legend and with no boundary lines\n",
    "db.plot(column='k5cls', categorical=True, cmap='Set3',\n",
    "        legend=True, linewidth=0, ax=ax)\n",
    "# Remove axis\n",
    "ax.set_axis_off()\n",
    "# Keep axes proportionate\n",
    "ax.axis('equal')\n",
    "# Add title\n",
    "ax.set_title('AHC solution ($k=5$)')\n",
    "\n",
    "# Display the map\n",
    "plt.show()"
   ]
  },
  {
   "cell_type": "markdown",
   "metadata": {},
   "source": [
    "While we must remember our earlier caveat about how irregular polygons can \n",
    "baffle our visual intuition, a closer visual inspection of the cluster geography\n",
    "suggests a clear pattern: although they are not identical, both clusterings capture\n",
    "very similar overall spatial structure. Furthermore, both solutions slightly violate \n",
    "Tobler's law, since all of the clusters have disconnected components. The five\n",
    "multivariate clusters in each case are actually composed of many disparate \n",
    "geographical areas, strewn around the map according only to the structure of the\n",
    "data and not its geography. That is, in order to travel to\n",
    "every tract belonging to a cluster, we would have to journey through\n",
    "other clusters as well."
   ]
  },
  {
   "cell_type": "markdown",
   "metadata": {},
   "source": [
    "Even though we have specified a spatial constraint, the constraint applies to the\n",
    "connectivity graph modeled by our weights matrix. Therefore, using k-nearest neighbors\n",
    "to constrain the agglomerative clustering may not result in regions that are connected\n",
    "according to a different connectivity rule, such as the queen contiguity rule used\n",
    "in the previous section. However, the regionalization here is fortuitous; even though\n",
    "we used the 4-nearest tracts to constrain connectivity, all but one of the clusters, \n",
    "cluster 4, is *also* connected according to our earlier queen contiguity rule. \n",
    "\n",
    "At first glance, this may seem counter-intuitive. We did specify the spatial\n",
    "constraint, so our initial reaction is that the connectivity constraint is\n",
    "violated. However, this is not the case, since the constraint applies to the\n",
    "k-nearest neighbor graph, not the queen contiguity graph. Therefore, since tracts\n",
    "in this solution are considered as connected to their four closest neighbors,\n",
    "clusters can \"leapfrog\" over one another. Thus, it is important to recognize that\n",
    "the apparent spatial structure of regionalizations will depend on how the \n",
    "connectivity of observations is modeled. \n",
    "\n",
    "## Conclusion\n",
    "\n",
    "Thus, clustering reduces this complexity into a single conceptual shorthand by which \n",
    "people can easily describe complex and multifaceted data. \n",
    "Clustering constructs groups of observations (called *clusters*)\n",
    "with coherent *profiles*, or distinct and internally-consistent \n",
    "distributional/descriptive characteristics. \n",
    "These profiles are the conceptual shorthand, since members of each cluster should\n",
    "be more similar to the cluster at large than they are to any other cluster. \n",
    "Many different clustering methods exist; they differ on how the \"cluster at large\" \n",
    "is defined, and how \"similar\" members must be to clusters, or how these clusters\n",
    "are obtained."
   ]
  },
  {
   "cell_type": "markdown",
   "metadata": {},
   "source": [
    "# Note next class we see how to select K and "
   ]
  },
  {
   "cell_type": "code",
   "execution_count": null,
   "metadata": {},
   "outputs": [],
   "source": []
  },
  {
   "cell_type": "code",
   "execution_count": null,
   "metadata": {},
   "outputs": [],
   "source": []
  },
  {
   "cell_type": "code",
   "execution_count": null,
   "metadata": {},
   "outputs": [],
   "source": []
  }
 ],
 "metadata": {
  "jupytext": {
   "formats": "ipynb,md"
  },
  "kernelspec": {
   "display_name": "Python 3",
   "language": "python",
   "name": "python3"
  },
  "language_info": {
   "codemirror_mode": {
    "name": "ipython",
    "version": 3
   },
   "file_extension": ".py",
   "mimetype": "text/x-python",
   "name": "python",
   "nbconvert_exporter": "python",
   "pygments_lexer": "ipython3",
   "version": "3.9.6"
  },
  "varInspector": {
   "cols": {
    "lenName": 16,
    "lenType": 16,
    "lenVar": 40
   },
   "kernels_config": {
    "python": {
     "delete_cmd_postfix": "",
     "delete_cmd_prefix": "del ",
     "library": "var_list.py",
     "varRefreshCmd": "print(var_dic_list())"
    },
    "r": {
     "delete_cmd_postfix": ") ",
     "delete_cmd_prefix": "rm(",
     "library": "var_list.r",
     "varRefreshCmd": "cat(var_dic_list()) "
    }
   },
   "types_to_exclude": [
    "module",
    "function",
    "builtin_function_or_method",
    "instance",
    "_Feature"
   ],
   "window_display": false
  }
 },
 "nbformat": 4,
 "nbformat_minor": 4
}
